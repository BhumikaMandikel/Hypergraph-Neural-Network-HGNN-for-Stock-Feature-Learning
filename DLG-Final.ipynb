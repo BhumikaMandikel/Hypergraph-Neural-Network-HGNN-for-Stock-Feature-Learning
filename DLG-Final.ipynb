{
  "nbformat": 4,
  "nbformat_minor": 0,
  "metadata": {
    "colab": {
      "provenance": []
    },
    "kernelspec": {
      "name": "python3",
      "display_name": "Python 3"
    },
    "language_info": {
      "name": "python"
    }
  },
  "cells": [
    {
      "cell_type": "markdown",
      "source": [
        "# 📈 Hypergraph Neural Network (HGNN) for Stock Feature Learning\n",
        "\n",
        "This notebook loads multi-ticker stock data, constructs hypergraphs, and trains an HGNN model to learn and predict stock-related features.\n"
      ],
      "metadata": {
        "id": "BHNzb8IVUArx"
      }
    },
    {
      "cell_type": "markdown",
      "source": [
        "## 📦 1. Imports\n",
        "Necessary Python libraries for data handling, modeling, and visualization.\n"
      ],
      "metadata": {
        "id": "OZFQZBKPUKRD"
      }
    },
    {
      "cell_type": "code",
      "execution_count": null,
      "metadata": {
        "id": "lJfHmD2ATxWr"
      },
      "outputs": [],
      "source": [
        "import pandas as pd\n",
        "import torch\n",
        "import torch.nn as nn\n",
        "import torch.nn.functional as F\n",
        "from sklearn.preprocessing import StandardScaler\n",
        "from sklearn.metrics import mean_squared_error, mean_absolute_percentage_error\n",
        "import numpy as np\n",
        "import json\n",
        "from tqdm import tqdm\n",
        "import matplotlib.pyplot as plt"
      ]
    },
    {
      "cell_type": "markdown",
      "source": [
        "## 📊 2. Data Loading & Preprocessing\n",
        "\n",
        "This function loads stock data for multiple tickers, calculates moving averages and returns, normalizes the features, and returns a tensor representation of each ticker.\n"
      ],
      "metadata": {
        "id": "WPyd8JjeUPYr"
      }
    },
    {
      "cell_type": "code",
      "source": [
        "def compute_features(df):\n",
        "    df = df.sort_values(by=[\"Ticker\", \"Date\"])\n",
        "    df['MA_5'] = df.groupby('Ticker')['Close'].transform(lambda x: x.rolling(window=5).mean())\n",
        "    df['MA_10'] = df.groupby('Ticker')['Close'].transform(lambda x: x.rolling(window=10).mean())\n",
        "    df['returns'] = df.groupby('Ticker')['Close'].pct_change()\n",
        "    df = df.dropna()\n",
        "    return df\n",
        "\n",
        "def load_stock_data(path):\n",
        "    df = pd.read_csv(path)\n",
        "    print(\"Original columns:\", df.columns.tolist())\n",
        "\n",
        "    tickers = ['AAPL', 'AMZN', 'BA', 'BAC', 'C', 'CAT', 'CVX', 'DUK', 'GOOGL', 'JNJ',\n",
        "               'JPM', 'KO', 'MRK', 'MSFT', 'PFE', 'PG', 'T', 'VZ', 'WMT', 'XOM']\n",
        "\n",
        "    ticker_to_idx = {ticker: i for i, ticker in enumerate(tickers)}\n",
        "    print(\"Ticker to index mapping:\", ticker_to_idx)\n",
        "\n",
        "    features = ['Open', 'High', 'Low', 'Close', 'Volume']\n",
        "    all_ticker_data = []\n",
        "\n",
        "    for i in range(len(tickers)):\n",
        "        suffix = '' if i == 0 else f'.{i}'\n",
        "        col_names = [f + suffix for f in features]\n",
        "\n",
        "        if not all(col in df.columns for col in col_names):\n",
        "            print(f\"Skipping ticker {tickers[i]} - columns not found\")\n",
        "            continue\n",
        "\n",
        "        try:\n",
        "            sub_df = df[[\"Date\"] + col_names].copy()\n",
        "            sub_df.columns = [\"Date\"] + features\n",
        "            sub_df['Ticker'] = tickers[i]\n",
        "            all_ticker_data.append(sub_df)\n",
        "        except Exception as e:\n",
        "            print(f\"Skipping ticker {tickers[i]} due to error: {e}\")\n",
        "            continue\n",
        "\n",
        "    full_df = pd.concat(all_ticker_data, ignore_index=True)\n",
        "    full_df = full_df.dropna()\n",
        "\n",
        "    # Compute additional features\n",
        "    full_df = compute_features(full_df)\n",
        "    features += ['MA_5', 'MA_10', 'returns']  # Add new features\n",
        "\n",
        "    # Normalize features\n",
        "    scaler = StandardScaler()\n",
        "    full_df[features] = scaler.fit_transform(full_df[features])\n",
        "\n",
        "    # Convert to tensor: per-ticker mean feature\n",
        "    data_tensor = torch.zeros(len(tickers), len(features))\n",
        "    for ticker in tickers:\n",
        "        if ticker in full_df['Ticker'].unique():\n",
        "            ticker_data = full_df[full_df['Ticker'] == ticker][features].mean().values\n",
        "            data_tensor[ticker_to_idx[ticker]] = torch.tensor(ticker_data, dtype=torch.float32)\n",
        "\n",
        "    return data_tensor, ticker_to_idx, full_df, scaler, features\n"
      ],
      "metadata": {
        "id": "H2MBLobyUQEe"
      },
      "execution_count": null,
      "outputs": []
    },
    {
      "cell_type": "markdown",
      "source": [
        "## 🧩 3. Hypergraph Construction\n",
        "\n",
        "Reads hyperedges from a JSON file and builds the incidence matrix `H`.\n"
      ],
      "metadata": {
        "id": "VY4wAUCBUSlK"
      }
    },
    {
      "cell_type": "code",
      "source": [
        "def generate_hypergraph_incidence_from_file(label_dict, json_path):\n",
        "    with open(json_path, 'r') as f:\n",
        "        hyperedges = json.load(f)\n",
        "\n",
        "    num_nodes = len(label_dict)\n",
        "    num_edges = len(hyperedges)\n",
        "    H = torch.zeros((num_nodes, num_edges))\n",
        "\n",
        "    for j, edge in enumerate(hyperedges):\n",
        "        for ticker in edge:\n",
        "            if ticker in label_dict:\n",
        "                i = label_dict[ticker]\n",
        "                H[i, j] = 1\n",
        "\n",
        "    return H"
      ],
      "metadata": {
        "id": "a0dVC5a1UXd3"
      },
      "execution_count": null,
      "outputs": []
    },
    {
      "cell_type": "markdown",
      "source": [
        "## 🎯 4. Feature Preparation for Supervision\n",
        "\n",
        "Constructs the training features and target labels for the model.\n"
      ],
      "metadata": {
        "id": "sMGtUcWDUaxh"
      }
    },
    {
      "cell_type": "code",
      "source": [
        "def prepare_features_and_labels(X, label_dict, original_df, features):\n",
        "    y = torch.zeros_like(X)\n",
        "    for ticker, idx in label_dict.items():\n",
        "        if ticker in original_df['Ticker'].unique():\n",
        "            ticker_data = original_df[original_df['Ticker'] == ticker][features].mean().values\n",
        "            y[idx] = torch.tensor(ticker_data, dtype=torch.float32)\n",
        "    return X, y"
      ],
      "metadata": {
        "id": "8FReEzP2UdlL"
      },
      "execution_count": null,
      "outputs": []
    },
    {
      "cell_type": "markdown",
      "source": [
        "## 🧠 5. Model Definition - HGNN Layer\n",
        "\n"
      ],
      "metadata": {
        "id": "8beOtGRCUfsf"
      }
    },
    {
      "cell_type": "code",
      "source": [
        "class HGNNLayer(nn.Module):\n",
        "    def __init__(self, in_features, out_features):\n",
        "        super(HGNNLayer, self).__init__()\n",
        "        self.linear = nn.Linear(in_features, out_features)\n",
        "        self.norm = nn.BatchNorm1d(out_features)\n",
        "\n",
        "\n",
        "    def forward(self, x, H):\n",
        "    # Hypergraph convolution with normalization\n",
        "        epsilon = 1e-8  # small constant to avoid division by zero\n",
        "\n",
        "        D_v = torch.diag(H.sum(1))\n",
        "        D_e = torch.diag(H.sum(0))\n",
        "\n",
        "        # Add epsilon to diagonal elements to avoid zero\n",
        "        D_v = D_v + epsilon * torch.eye(D_v.size(0), device=H.device)\n",
        "        D_e = D_e + epsilon * torch.eye(D_e.size(0), device=H.device)\n",
        "\n",
        "        D_v_inv_sqrt = torch.linalg.inv(torch.sqrt(D_v))\n",
        "        D_e_inv = torch.linalg.inv(D_e)\n",
        "\n",
        "        # Normalized hypergraph convolution\n",
        "        x = D_v_inv_sqrt @ H @ D_e_inv @ H.T @ D_v_inv_sqrt @ x\n",
        "        x = self.linear(x)\n",
        "        x = self.norm(x)\n",
        "        return F.relu(x)"
      ],
      "metadata": {
        "id": "7lVCYHM1UixM"
      },
      "execution_count": null,
      "outputs": []
    },
    {
      "cell_type": "markdown",
      "source": [
        "## 🧠 6. HGNN Model\n",
        "\n",
        "Stacks multiple HGNN layers followed by a final linear output.\n"
      ],
      "metadata": {
        "id": "j3qA2n_pUpWw"
      }
    },
    {
      "cell_type": "code",
      "source": [
        "class HGNN(nn.Module):\n",
        "    def __init__(self, in_features, hidden_dim, out_features, num_layers=2):\n",
        "        super(HGNN, self).__init__()\n",
        "        self.layers = nn.ModuleList()\n",
        "\n",
        "        # Input layer\n",
        "        self.layers.append(HGNNLayer(in_features, hidden_dim))\n",
        "\n",
        "        # Hidden layers\n",
        "        for _ in range(num_layers - 2):\n",
        "            self.layers.append(HGNNLayer(hidden_dim, hidden_dim))\n",
        "\n",
        "        # Output layer\n",
        "        self.output = nn.Linear(hidden_dim, out_features)\n",
        "\n",
        "    def forward(self, x, H):\n",
        "        for layer in self.layers:\n",
        "            x = layer(x, H)\n",
        "        return self.output(x)"
      ],
      "metadata": {
        "id": "HGTkxtvAUtjC"
      },
      "execution_count": null,
      "outputs": []
    },
    {
      "cell_type": "markdown",
      "source": [
        "## 📏 7. Evaluation\n",
        "\n",
        "Evaluates the model using both Mean Squared Error (MSE) and Mean Absolute Percentage Error (MAPE).\n"
      ],
      "metadata": {
        "id": "lj789YKWUyHw"
      }
    },
    {
      "cell_type": "code",
      "source": [
        "def evaluate(model, val_df, full_train_df, H, scaler, features):\n",
        "    model.eval()\n",
        "\n",
        "    # Convert features to list if it's not already\n",
        "    if not isinstance(features, list):\n",
        "        features = [features] if isinstance(features, str) else list(features)\n",
        "\n",
        "    eval_tickers = []\n",
        "    ticker_features = []\n",
        "    true_features = []\n",
        "\n",
        "    grouped_val = val_df.groupby('Ticker')\n",
        "\n",
        "    for ticker in sorted(grouped_val.groups.keys()):\n",
        "        group_val = grouped_val.get_group(ticker)\n",
        "\n",
        "        if len(group_val) == 0:\n",
        "            continue\n",
        "\n",
        "        true_feat = group_val[features].iloc[0].values\n",
        "        if np.any(np.isnan(true_feat)):\n",
        "            print(f\"Skipping {ticker}: NaN in y_true\")\n",
        "            continue\n",
        "\n",
        "        group_train = full_train_df[full_train_df['Ticker'] == ticker]\n",
        "        if len(group_train) == 0:\n",
        "            continue\n",
        "\n",
        "        feat = group_train[features].mean().values\n",
        "        if np.any(np.isnan(feat)):\n",
        "            print(f\"Skipping {ticker}: NaN in training features\")\n",
        "            continue\n",
        "\n",
        "        true_features.append(true_feat)\n",
        "        ticker_features.append(feat)\n",
        "        eval_tickers.append(ticker)\n",
        "\n",
        "    if len(ticker_features) == 0:\n",
        "        print(\"No valid tickers found for evaluation.\")\n",
        "        return None\n",
        "\n",
        "    # Build H matrix only for current evaluation tickers\n",
        "    H_eval = np.zeros((len(eval_tickers), H.shape[1]))\n",
        "    ticker_to_idx = {ticker: i for i, ticker in enumerate(eval_tickers)}\n",
        "\n",
        "    with open('hyperedges.json', 'r') as f:\n",
        "        hyperedges = json.load(f)\n",
        "\n",
        "    for j, edge in enumerate(hyperedges):\n",
        "        for ticker in edge:\n",
        "            if ticker in ticker_to_idx:\n",
        "                i = ticker_to_idx[ticker]\n",
        "                H_eval[i][j] = 1\n",
        "\n",
        "    H_eval = torch.tensor(H_eval, dtype=torch.float32)\n",
        "\n",
        "    # Convert features to tensors\n",
        "    X = torch.tensor(np.stack(ticker_features), dtype=torch.float32)\n",
        "\n",
        "    with torch.no_grad():\n",
        "        y_pred = model(X, H_eval).numpy()\n",
        "\n",
        "    y_true = np.stack(true_features)\n",
        "\n",
        "    # Calculate both MSE and MAPE\n",
        "    mse = mean_squared_error(y_true, y_pred)\n",
        "    mape = mean_absolute_percentage_error(y_true, y_pred)\n",
        "\n",
        "    print(f\"Validation MSE: {mse:.4f}, Validation MAPE: {mape:.4f}\")\n",
        "    return mse, mape\n"
      ],
      "metadata": {
        "id": "IAW0BIgPU1JY"
      },
      "execution_count": null,
      "outputs": []
    },
    {
      "cell_type": "markdown",
      "source": [
        "## 🚀 8. Training Loop with Early Stopping and Visualization\n"
      ],
      "metadata": {
        "id": "nNeQNxxmU4OB"
      }
    },
    {
      "cell_type": "code",
      "source": [
        "def train_model(X_train, y_train, H_train, X_val, y_val, H_val,\n",
        "                val_df, full_train_df, scaler, features,\n",
        "                num_epochs=200, lr=0.01, patience=10):\n",
        "    device = torch.device(\"cuda\" if torch.cuda.is_available() else \"cpu\")\n",
        "    print(f\"Using device: {device}\")\n",
        "\n",
        "    model = HGNN(\n",
        "        in_features=X_train.size(1),\n",
        "        hidden_dim=64,\n",
        "        out_features=y_train.size(1),\n",
        "        num_layers=3\n",
        "    ).to(device)\n",
        "\n",
        "    optimizer = torch.optim.Adam(model.parameters(), lr=lr, weight_decay=1e-4)\n",
        "    loss_fn = nn.MSELoss()\n",
        "\n",
        "    # Move data to device\n",
        "    X_train, y_train, H_train = X_train.to(device), y_train.to(device), H_train.to(device)\n",
        "    X_val, y_val, H_val = X_val.to(device), y_val.to(device), H_val.to(device)\n",
        "\n",
        "    best_val_loss = float('inf')\n",
        "    best_model_state = None\n",
        "    epochs_no_improve = 0\n",
        "\n",
        "    train_losses = []\n",
        "    val_losses = []\n",
        "    val_mapes = []\n",
        "\n",
        "    for epoch in tqdm(range(num_epochs), desc=\"Training\"):\n",
        "        model.train()\n",
        "        optimizer.zero_grad()\n",
        "\n",
        "        # Forward pass\n",
        "        outputs = model(X_train, H_train)\n",
        "        loss = loss_fn(outputs, y_train)\n",
        "\n",
        "        # Backward pass\n",
        "        loss.backward()\n",
        "        optimizer.step()\n",
        "\n",
        "        # Validation\n",
        "        model.eval()\n",
        "        with torch.no_grad():\n",
        "            val_outputs = model(X_val, H_val)\n",
        "            val_loss = loss_fn(val_outputs, y_val)\n",
        "\n",
        "        train_losses.append(loss.item())\n",
        "        val_losses.append(val_loss.item())\n",
        "\n",
        "        # Calculate validation MAPE periodically\n",
        "        if (epoch + 1) % 10 == 0:\n",
        "            _, val_mape = evaluate(model, val_df, full_train_df, H_val.cpu(), scaler, features)\n",
        "            val_mapes.append(val_mape)\n",
        "\n",
        "        # Print progress\n",
        "        if (epoch + 1) % 10 == 0:\n",
        "            print(f\"\\nEpoch {epoch + 1}/{num_epochs}\")\n",
        "            print(f\"Train MSE: {loss.item():.4f}, Val MSE: {val_loss.item():.4f}\")\n",
        "            if val_mapes:\n",
        "                print(f\"Recent Val MAPE: {val_mapes[-1]:.4f}\")\n",
        "\n",
        "        # Early stopping\n",
        "        if val_loss < best_val_loss:\n",
        "            best_val_loss = val_loss\n",
        "            best_model_state = model.state_dict()\n",
        "            epochs_no_improve = 0\n",
        "        else:\n",
        "            epochs_no_improve += 1\n",
        "            if epochs_no_improve >= patience:\n",
        "                print(f\"Early stopping at epoch {epoch + 1}\")\n",
        "                break\n",
        "\n",
        "    # Load best model\n",
        "    if best_model_state is not None:\n",
        "        model.load_state_dict(best_model_state)\n",
        "\n",
        "    # Plot training curves\n",
        "    plt.figure(figsize=(12, 5))\n",
        "    plt.subplot(1, 2, 1)\n",
        "    plt.plot(train_losses, label='Train Loss')\n",
        "    plt.plot(val_losses, label='Validation Loss')\n",
        "    plt.xlabel('Epoch')\n",
        "    plt.ylabel('MSE Loss')\n",
        "    plt.legend()\n",
        "    plt.title('Training and Validation Loss')\n",
        "\n",
        "    plt.subplot(1, 2, 2)\n",
        "    plt.plot(val_mapes, label='Validation MAPE')\n",
        "    plt.xlabel('Every 10 Epochs')\n",
        "    plt.ylabel('MAPE')\n",
        "    plt.legend()\n",
        "    plt.title('Validation MAPE Over Time')\n",
        "\n",
        "    plt.tight_layout()\n",
        "    plt.show()\n",
        "\n",
        "    return model"
      ],
      "metadata": {
        "id": "h9NcqrhmU66a"
      },
      "execution_count": null,
      "outputs": []
    },
    {
      "cell_type": "markdown",
      "source": [
        "#  9. Prediction for Blind Test Cases"
      ],
      "metadata": {
        "id": "IIxQsoPYVAti"
      }
    },
    {
      "cell_type": "code",
      "source": [
        "\n",
        "def predict_blind_test(model, blind_test_cases, train_df, H, ticker_to_idx, scaler, features):\n",
        "    updated_cases = []\n",
        "\n",
        "    with open('hyperedges.json', 'r') as f:\n",
        "        hyperedges = json.load(f)\n",
        "\n",
        "    for case in tqdm(blind_test_cases, desc=\"Predicting blind test cases\"):\n",
        "        ticker = case['ticker']\n",
        "        date = case['date']\n",
        "\n",
        "        if ticker not in ticker_to_idx:\n",
        "            print(f\"Skipping {ticker} - not in training data\")\n",
        "            continue\n",
        "\n",
        "        # Get the most recent data for this ticker\n",
        "        ticker_data = train_df[train_df['Ticker'] == ticker]\n",
        "        if len(ticker_data) == 0:\n",
        "            print(f\"Skipping {ticker} - no training data available\")\n",
        "            continue\n",
        "\n",
        "        # Get the last available data point\n",
        "        recent = ticker_data[features].values[-1:]\n",
        "        recent_tensor = torch.tensor(recent, dtype=torch.float32)\n",
        "\n",
        "        # Rebuild H for just this one ticker\n",
        "        idx = ticker_to_idx[ticker]\n",
        "        H_single = H[idx:idx+1, :]\n",
        "\n",
        "        # Predict\n",
        "        with torch.no_grad():\n",
        "            pred = model(recent_tensor.to(next(model.parameters()).device),\n",
        "                        H_single.to(next(model.parameters()).device))\n",
        "            pred = pred.cpu().numpy()\n",
        "\n",
        "        # Inverse transform predictions\n",
        "        scaled_pred = scaler.inverse_transform(pred.reshape(1, -1))[0]\n",
        "\n",
        "        # Update case with predictions\n",
        "        case['predicted_open'] = float(scaled_pred[0])\n",
        "        case['predicted_high'] = float(scaled_pred[1])\n",
        "        case['predicted_low'] = float(scaled_pred[2])\n",
        "        case['predicted_close'] = float(scaled_pred[3])\n",
        "        case['predicted_volume'] = float(scaled_pred[4])\n",
        "        case['eval_metric'] = \"MAPE\"\n",
        "        updated_cases.append(case)\n",
        "\n",
        "    return updated_cases\n"
      ],
      "metadata": {
        "id": "Jre1m80mWP7Z"
      },
      "execution_count": null,
      "outputs": []
    },
    {
      "cell_type": "markdown",
      "source": [
        "# 10. Main Execution"
      ],
      "metadata": {
        "id": "NnhP1fnuWfhe"
      }
    },
    {
      "cell_type": "code",
      "source": [
        "\n",
        "if __name__ == \"__main__\":\n",
        "    # Load and prepare data\n",
        "    X_train, label_dict, full_train_df, scaler, features = load_stock_data('train_stock_data.csv')\n",
        "    X_val, label_dict_val, full_val_df, _, _ = load_stock_data('validation_stock_data.csv')\n",
        "\n",
        "    # Prepare features and labels\n",
        "    X_train, y_train = prepare_features_and_labels(X_train, label_dict, full_train_df, features)\n",
        "    X_val, y_val = prepare_features_and_labels(X_val, label_dict_val, full_val_df, features)\n",
        "\n",
        "    # Generate hypergraph incidence matrices\n",
        "    H_train = generate_hypergraph_incidence_from_file(label_dict, 'hyperedges.json')\n",
        "    H_val = generate_hypergraph_incidence_from_file(label_dict_val, 'hyperedges.json')\n",
        "\n",
        "    print(\"\\nData Shapes:\")\n",
        "    print(f\"Train Features: {X_train.shape}, Train Labels: {y_train.shape}\")\n",
        "    print(f\"Val Features: {X_val.shape}, Val Labels: {y_val.shape}\")\n",
        "    print(f\"Train Incidence: {H_train.shape}, Val Incidence: {H_val.shape}\")\n",
        "\n",
        "    # Train model\n",
        "    model = train_model(\n",
        "        X_train, y_train, H_train,\n",
        "        X_val, y_val, H_val,\n",
        "        val_df=full_val_df,\n",
        "        full_train_df=full_train_df,\n",
        "        scaler=scaler,\n",
        "        features=features,\n",
        "        num_epochs=500,\n",
        "        lr=0.001,\n",
        "        patience=20\n",
        "    )\n",
        "\n",
        "    # Final evaluation\n",
        "    print(\"\\nFinal Evaluation:\")\n",
        "    final_mse, final_mape = evaluate(model, full_val_df, full_train_df, H_val, scaler, features)\n",
        "    print(f\"Final Validation MSE: {final_mse:.4f}, MAPE: {final_mape:.4f}\")\n",
        "\n",
        "    # Load blind test cases and make predictions\n",
        "    with open('blind_test_cases.json', 'r') as f:\n",
        "        blind_test_cases = json.load(f)\n",
        "\n",
        "    updated_cases = predict_blind_test(\n",
        "        model, blind_test_cases,\n",
        "        full_train_df, H_train,\n",
        "        label_dict, scaler, features\n",
        "    )\n",
        "\n",
        "    # Save predictions\n",
        "    with open(\"predicted_test_cases.json\", \"w\") as f:\n",
        "        json.dump(updated_cases, f, indent=4)\n",
        "    print(\"\\nPredictions saved to predicted_test_cases.json\")"
      ],
      "metadata": {
        "colab": {
          "base_uri": "https://localhost:8080/",
          "height": 1000
        },
        "id": "aeiCOz2FWeK_",
        "outputId": "a113095f-8644-414a-b3fe-fb8e77d74112"
      },
      "execution_count": null,
      "outputs": [
        {
          "output_type": "stream",
          "name": "stdout",
          "text": [
            "Original columns: ['Date', 'Ticker', 'Open', 'Open.1', 'Open.2', 'Open.3', 'Open.4', 'Open.5', 'Open.6', 'Open.7', 'Open.8', 'Open.9', 'Open.10', 'Open.11', 'Open.12', 'Open.13', 'Open.14', 'Open.15', 'Open.16', 'Open.17', 'Open.18', 'Open.19', 'High', 'High.1', 'High.2', 'High.3', 'High.4', 'High.5', 'High.6', 'High.7', 'High.8', 'High.9', 'High.10', 'High.11', 'High.12', 'High.13', 'High.14', 'High.15', 'High.16', 'High.17', 'High.18', 'High.19', 'Low', 'Low.1', 'Low.2', 'Low.3', 'Low.4', 'Low.5', 'Low.6', 'Low.7', 'Low.8', 'Low.9', 'Low.10', 'Low.11', 'Low.12', 'Low.13', 'Low.14', 'Low.15', 'Low.16', 'Low.17', 'Low.18', 'Low.19', 'Close', 'Close.1', 'Close.2', 'Close.3', 'Close.4', 'Close.5', 'Close.6', 'Close.7', 'Close.8', 'Close.9', 'Close.10', 'Close.11', 'Close.12', 'Close.13', 'Close.14', 'Close.15', 'Close.16', 'Close.17', 'Close.18', 'Close.19', 'Volume', 'Volume.1', 'Volume.2', 'Volume.3', 'Volume.4', 'Volume.5', 'Volume.6', 'Volume.7', 'Volume.8', 'Volume.9', 'Volume.10', 'Volume.11', 'Volume.12', 'Volume.13', 'Volume.14', 'Volume.15', 'Volume.16', 'Volume.17', 'Volume.18', 'Volume.19']\n",
            "Ticker to index mapping: {'AAPL': 0, 'AMZN': 1, 'BA': 2, 'BAC': 3, 'C': 4, 'CAT': 5, 'CVX': 6, 'DUK': 7, 'GOOGL': 8, 'JNJ': 9, 'JPM': 10, 'KO': 11, 'MRK': 12, 'MSFT': 13, 'PFE': 14, 'PG': 15, 'T': 16, 'VZ': 17, 'WMT': 18, 'XOM': 19}\n",
            "Original columns: ['Date', 'Ticker', 'Open', 'Open.1', 'Open.2', 'Open.3', 'Open.4', 'Open.5', 'Open.6', 'Open.7', 'Open.8', 'Open.9', 'Open.10', 'Open.11', 'Open.12', 'Open.13', 'Open.14', 'Open.15', 'Open.16', 'Open.17', 'Open.18', 'Open.19', 'High', 'High.1', 'High.2', 'High.3', 'High.4', 'High.5', 'High.6', 'High.7', 'High.8', 'High.9', 'High.10', 'High.11', 'High.12', 'High.13', 'High.14', 'High.15', 'High.16', 'High.17', 'High.18', 'High.19', 'Low', 'Low.1', 'Low.2', 'Low.3', 'Low.4', 'Low.5', 'Low.6', 'Low.7', 'Low.8', 'Low.9', 'Low.10', 'Low.11', 'Low.12', 'Low.13', 'Low.14', 'Low.15', 'Low.16', 'Low.17', 'Low.18', 'Low.19', 'Close', 'Close.1', 'Close.2', 'Close.3', 'Close.4', 'Close.5', 'Close.6', 'Close.7', 'Close.8', 'Close.9', 'Close.10', 'Close.11', 'Close.12', 'Close.13', 'Close.14', 'Close.15', 'Close.16', 'Close.17', 'Close.18', 'Close.19', 'Volume', 'Volume.1', 'Volume.2', 'Volume.3', 'Volume.4', 'Volume.5', 'Volume.6', 'Volume.7', 'Volume.8', 'Volume.9', 'Volume.10', 'Volume.11', 'Volume.12', 'Volume.13', 'Volume.14', 'Volume.15', 'Volume.16', 'Volume.17', 'Volume.18', 'Volume.19']\n",
            "Ticker to index mapping: {'AAPL': 0, 'AMZN': 1, 'BA': 2, 'BAC': 3, 'C': 4, 'CAT': 5, 'CVX': 6, 'DUK': 7, 'GOOGL': 8, 'JNJ': 9, 'JPM': 10, 'KO': 11, 'MRK': 12, 'MSFT': 13, 'PFE': 14, 'PG': 15, 'T': 16, 'VZ': 17, 'WMT': 18, 'XOM': 19}\n",
            "\n",
            "Data Shapes:\n",
            "Train Features: torch.Size([20, 8]), Train Labels: torch.Size([20, 8])\n",
            "Val Features: torch.Size([20, 8]), Val Labels: torch.Size([20, 8])\n",
            "Train Incidence: torch.Size([20, 8]), Val Incidence: torch.Size([20, 8])\n",
            "Using device: cpu\n"
          ]
        },
        {
          "output_type": "stream",
          "name": "stderr",
          "text": [
            "Training:   3%|▎         | 14/500 [00:00<00:03, 139.52it/s]"
          ]
        },
        {
          "output_type": "stream",
          "name": "stdout",
          "text": [
            "Validation MSE: 0.8650, Validation MAPE: 1.0233\n",
            "\n",
            "Epoch 10/500\n",
            "Train MSE: 0.6357, Val MSE: 0.3310\n",
            "Recent Val MAPE: 1.0233\n",
            "Validation MSE: 0.8630, Validation MAPE: 1.0123\n",
            "\n",
            "Epoch 20/500\n",
            "Train MSE: 0.6248, Val MSE: 0.3289\n",
            "Recent Val MAPE: 1.0123\n"
          ]
        },
        {
          "output_type": "stream",
          "name": "stderr",
          "text": [
            "\rTraining:   6%|▌         | 30/500 [00:00<00:03, 122.90it/s]"
          ]
        },
        {
          "output_type": "stream",
          "name": "stdout",
          "text": [
            "Validation MSE: 0.8646, Validation MAPE: 1.0016\n",
            "\n",
            "Epoch 30/500\n",
            "Train MSE: 0.6234, Val MSE: 0.3283\n",
            "Recent Val MAPE: 1.0016\n"
          ]
        },
        {
          "output_type": "stream",
          "name": "stderr",
          "text": [
            "\rTraining:   9%|▉         | 47/500 [00:00<00:03, 141.04it/s]"
          ]
        },
        {
          "output_type": "stream",
          "name": "stdout",
          "text": [
            "Validation MSE: 0.8625, Validation MAPE: 0.9798\n",
            "\n",
            "Epoch 40/500\n",
            "Train MSE: 0.6229, Val MSE: 0.3279\n",
            "Recent Val MAPE: 0.9798\n",
            "Validation MSE: 0.8593, Validation MAPE: 0.9589\n",
            "\n",
            "Epoch 50/500\n",
            "Train MSE: 0.6224, Val MSE: 0.3269\n",
            "Recent Val MAPE: 0.9589\n"
          ]
        },
        {
          "output_type": "stream",
          "name": "stderr",
          "text": [
            "\rTraining:  12%|█▏        | 62/500 [00:00<00:03, 124.50it/s]"
          ]
        },
        {
          "output_type": "stream",
          "name": "stdout",
          "text": [
            "Validation MSE: 0.8585, Validation MAPE: 0.9544\n",
            "\n",
            "Epoch 60/500\n",
            "Train MSE: 0.6224, Val MSE: 0.3272\n",
            "Recent Val MAPE: 0.9544\n"
          ]
        },
        {
          "output_type": "stream",
          "name": "stderr",
          "text": [
            "\rTraining:  14%|█▍        | 70/500 [00:00<00:03, 125.40it/s]"
          ]
        },
        {
          "output_type": "stream",
          "name": "stdout",
          "text": [
            "Validation MSE: 0.8585, Validation MAPE: 0.9480\n",
            "\n",
            "Epoch 70/500\n",
            "Train MSE: 0.6223, Val MSE: 0.3276\n",
            "Recent Val MAPE: 0.9480\n",
            "Early stopping at epoch 71\n"
          ]
        },
        {
          "output_type": "stream",
          "name": "stderr",
          "text": [
            "\n"
          ]
        },
        {
          "output_type": "display_data",
          "data": {
            "text/plain": [
              "<Figure size 1200x500 with 2 Axes>"
            ],
            "image/png": "[encoded data removed]"
          },
          "metadata": {}
        },
        {
          "output_type": "stream",
          "name": "stdout",
          "text": [
            "\n",
            "Final Evaluation:\n",
            "Validation MSE: 0.8586, Validation MAPE: 0.9474\n",
            "Final Validation MSE: 0.8586, MAPE: 0.9474\n"
          ]
        },
        {
          "output_type": "stream",
          "name": "stderr",
          "text": [
            "Predicting blind test cases: 100%|██████████| 120/120 [00:00<00:00, 217.18it/s]"
          ]
        },
        {
          "output_type": "stream",
          "name": "stdout",
          "text": [
            "\n",
            "Predictions saved to predicted_test_cases.json\n"
          ]
        },
        {
          "output_type": "stream",
          "name": "stderr",
          "text": [
            "\n"
          ]
        }
      ]
    }
  ]
}